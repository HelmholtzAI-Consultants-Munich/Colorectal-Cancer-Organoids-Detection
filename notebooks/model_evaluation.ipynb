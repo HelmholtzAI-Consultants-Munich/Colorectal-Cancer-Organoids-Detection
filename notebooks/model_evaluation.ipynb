{
 "cells": [
  {
   "cell_type": "code",
   "execution_count": 6,
   "metadata": {},
   "outputs": [],
   "source": [
    "# imports\n",
    "import os\n",
    "import sys\n",
    "from typing import List, Tuple\n",
    "from tqdm import tqdm\n",
    "\n",
    "sys.path.append(os.path.dirname(os.getcwd()))\n",
    "\n",
    "import torch\n",
    "import pandas as pd\n",
    "import numpy as np\n",
    "import matplotlib.pyplot as plt\n",
    "from torchvision.models.detection.roi_heads import maskrcnn_inference\n",
    "\n",
    "from src.model.engine import FitterMaskRCNN\n",
    "from src.model.model import maskRCNNModel, predict_image\n",
    "from src.model.dataset import InferenceMaskRCNNDataset, MaskRCNNDataset\n",
    "from src.utils.utils import *\n",
    "from src.utils.const import *\n"
   ]
  },
  {
   "cell_type": "code",
   "execution_count": 7,
   "metadata": {},
   "outputs": [
    {
     "name": "stderr",
     "output_type": "stream",
     "text": [
      "/var/folders/74/pjwdjs550d91v4lc_1_rqm6r0000gn/T/ipykernel_14840/3354357200.py:9: FutureWarning: You are using `torch.load` with `weights_only=False` (the current default value), which uses the default pickle module implicitly. It is possible to construct malicious pickle data which will execute arbitrary code during unpickling (See https://github.com/pytorch/pytorch/blob/main/SECURITY.md#untrusted-models for more details). In a future release, the default value for `weights_only` will be flipped to `True`. This limits the functions that could be executed during unpickling. Arbitrary objects will no longer be allowed to be loaded via this mode unless they are explicitly allowlisted by the user via `torch.serialization.add_safe_globals`. We recommend you start setting `weights_only=True` for any use case where you don't have full control of the loaded file. Please open an issue on GitHub for any issues related to this experimental feature.\n",
      "  checkpoint = torch.load(model_weights_path, map_location=device)\n"
     ]
    }
   ],
   "source": [
    "dataset_1 = \"../dataset/train\"\n",
    "\n",
    "dataset = MaskRCNNDataset(dataset_path=dataset_1, datatype=\"train\")\n",
    "\n",
    "# load the model\n",
    "device = torch.device(\"cuda\") if torch.cuda.is_available() else torch.device(\"cpu\") \n",
    "model = maskRCNNModel()\n",
    "model_weights_path = os.path.join(os.path.dirname(os.getcwd()), \"model/best-checkpoint-0.bin\")\n",
    "checkpoint = torch.load(model_weights_path, map_location=device)\n",
    "model.load_state_dict(checkpoint['model_state_dict'])\n",
    "optimizer = torch.optim.Adam(model.parameters(), lr=0.001)\n"
   ]
  },
  {
   "cell_type": "code",
   "execution_count": 8,
   "metadata": {},
   "outputs": [],
   "source": [
    "model.train()\n",
    "images = []\n",
    "targets = []\n",
    "for i in range(20):\n",
    "    image, target = dataset[i]\n",
    "    images.append(image)\n",
    "    targets.append(target)\n",
    "pred = model(images, targets)\n"
   ]
  },
  {
   "cell_type": "code",
   "execution_count": 5,
   "metadata": {},
   "outputs": [],
   "source": [
    "optimizer.zero_grad()"
   ]
  },
  {
   "cell_type": "code",
   "execution_count": null,
   "metadata": {},
   "outputs": [
    {
     "ename": "NameError",
     "evalue": "name 'inference_ds' is not defined",
     "output_type": "error",
     "traceback": [
      "\u001b[0;31m---------------------------------------------------------------------------\u001b[0m",
      "\u001b[0;31mNameError\u001b[0m                                 Traceback (most recent call last)",
      "Cell \u001b[0;32mIn[4], line 3\u001b[0m\n\u001b[1;32m      1\u001b[0m \u001b[38;5;28;01mimport\u001b[39;00m \u001b[38;5;21;01mmatplotlib\u001b[39;00m\u001b[38;5;21;01m.\u001b[39;00m\u001b[38;5;21;01mpyplot\u001b[39;00m \u001b[38;5;28;01mas\u001b[39;00m \u001b[38;5;21;01mplt\u001b[39;00m\n\u001b[1;32m      2\u001b[0m model\u001b[38;5;241m.\u001b[39meval()\n\u001b[0;32m----> 3\u001b[0m \u001b[38;5;28;01mfor\u001b[39;00m image, meta \u001b[38;5;129;01min\u001b[39;00m \u001b[43minference_ds\u001b[49m:\n\u001b[1;32m      4\u001b[0m     image_norm \u001b[38;5;241m=\u001b[39m image\u001b[38;5;241m.\u001b[39munsqueeze(\u001b[38;5;241m0\u001b[39m)\u001b[38;5;241m.\u001b[39mto(device)\n\u001b[1;32m      5\u001b[0m     \u001b[38;5;28;01mwith\u001b[39;00m torch\u001b[38;5;241m.\u001b[39mno_grad():\n",
      "\u001b[0;31mNameError\u001b[0m: name 'inference_ds' is not defined"
     ]
    }
   ],
   "source": [
    "import matplotlib.pyplot as plt\n",
    "model.eval()\n",
    "for image, meta in inference_ds:\n",
    "    image_norm = image.unsqueeze(0).to(device)\n",
    "    with torch.no_grad():\n",
    "        prediction = model(image_norm)\n",
    "    print(prediction)\n",
    "    break"
   ]
  },
  {
   "cell_type": "code",
   "execution_count": null,
   "metadata": {},
   "outputs": [],
   "source": [
    "import matplotlib.pyplot as plt\n",
    "model.eval()\n",
    "for image, meta in inference_ds:\n",
    "    image_norm = image.unsqueeze(0).to(device)\n",
    "    image_norm, _ = model.transform(image_norm, None)\n",
    "    features = model.backbone(image_norm.tensors)\n",
    "    proposals, _ = model.rpn(image_norm, features)\n",
    "    for box in proposals[0]:\n",
    "        plt.imshow(image_norm.tensors[0].detach().cpu().numpy().transpose(1, 2, 0))\n",
    "        x = [box[0], box[2], box[2], box[0], box[0]]\n",
    "        y = [box[1], box[1], box[3], box[3], box[1]]   \n",
    "        plt.plot(x, y, color=\"red\")\n",
    "        plt.show()\n",
    "    detections, _ = model.roi_heads(features, proposals, image_norm.image_sizes)\n",
    "    detections = model.transform.postprocess(detections, image_norm.image_sizes, [(meta[\"height\"], meta[\"width\"])])"
   ]
  },
  {
   "cell_type": "code",
   "execution_count": null,
   "metadata": {},
   "outputs": [],
   "source": [
    "import torch\n",
    "from matplotlib import patches\n",
    "\n",
    "def reshape_annotations(annotations: pd.DataFrame, original_size: List[int], new_size: List[int]) -> torch.tensor:\n",
    "    # annotations = annotations[[\"x1\", \"y1\", \"x2\", \"y2\"]] # napari invers x and y coordinates\n",
    "    tensor = torch.tensor(annotations.values, dtype=torch.float32)\n",
    "    if tensor.shape[1] == 1:\n",
    "        tensor = tensor.T\n",
    "    x_reshape = new_size[0] / original_size[0]\n",
    "    y_reshape = new_size[1] / original_size[1]\n",
    "    tensor[:, 0] *= x_reshape\n",
    "    tensor[:, 2] *= x_reshape\n",
    "    tensor[:, 1] *= y_reshape\n",
    "    tensor[:, 3] *= y_reshape\n",
    "    return tensor\n",
    "\n",
    "\n",
    "for annotations_1_path, (image, meta) in zip(annotations_1_paths, inference_ds):\n",
    "    annotations_1 = pd.read_csv(annotations_1_path, index_col=0)\n",
    "    if len(annotations_1) == 0:\n",
    "        print(f\"no annotations for {annotations_1_path}\")\n",
    "        continue\n",
    "    image_norm = image.unsqueeze(0).to(device)\n",
    "    image_norm, _ = model.transform(image_norm, None)\n",
    "    t = image_norm.tensors[0]\n",
    "    t =  t - t.min()\n",
    "    features = model.backbone(image_norm.tensors)\n",
    "    proposals = reshape_annotations(annotations_1, [meta[\"width\"], meta[\"height\"]], [image_norm.image_sizes[0][1], image_norm.image_sizes[0][0]])\n",
    "    mask_features = model.roi_heads.mask_roi_pool(features, [proposals], image_norm.image_sizes)\n",
    "    mask_features = model.roi_heads.mask_head(mask_features)\n",
    "    mask_logits = model.roi_heads.mask_predictor(mask_features)\n",
    "    labels = [torch.ones(len(proposals), device=device, dtype=torch.int64)]\n",
    "    masks_probs = maskrcnn_inference(mask_logits, labels)\n",
    "    print(proposals.shape)\n",
    "\n",
    "    # detections, _ = model.roi_heads(features, [proposals], image_norm.image_sizes)\n",
    "    detections = [{\n",
    "        \"boxes\": proposals,\n",
    "        \"masks\": masks_probs[0],\n",
    "        \"scores\": torch.ones(len(proposals)),\n",
    "        \"labels\": labels,\n",
    "    }]\n",
    "    \n",
    "    detections = model.transform.postprocess(detections, image_norm.image_sizes, [(meta[\"height\"], meta[\"width\"])])\n",
    "    # assert detections[0][\"boxes\"].shape == proposals.shape, f\"{detections[0][\"boxes\"].shape} != {proposals.shape}\"\n",
    "    i = 0\n",
    "    for box_pred, mask in zip(detections[0][\"boxes\"], detections[0][\"masks\"]):\n",
    "\n",
    "        fig, axes = plt.subplots(1, 2)\n",
    "        fig.set_size_inches(10, 5)\n",
    "\n",
    "        # x = [box_or[\"x1\"], box_or[\"x2\"], box_or[\"x2\"], box_or[\"x1\"], box_or[\"x1\"]]\n",
    "        # y = [box_or[\"y1\"], box_or[\"y1\"], box_or[\"y2\"], box_or[\"y2\"], box_or[\"y1\"]]\n",
    "        # axes[0].imshow(image.detach().cpu().numpy().transpose(1, 2, 0))\n",
    "        # axes[0].plot(x, y, color=\"red\")\n",
    "\n",
    "        box_pred = box_pred.detach().cpu().numpy()\n",
    "        x = [box_pred[0], box_pred[2], box_pred[2], box_pred[0], box_pred[0]]\n",
    "        y = [box_pred[1], box_pred[1], box_pred[3], box_pred[3], box_pred[1]]\n",
    "        axes[0].imshow(image.detach().cpu().numpy().transpose(1, 2, 0))\n",
    "        axes[0].plot(x, y, color=\"red\")\n",
    "\n",
    "        image_masked = image * mask\n",
    "        axes[1].imshow(image_masked.detach().cpu().numpy().transpose(1, 2, 0))\n",
    "        fig.suptitle(f\"box {i}\")\n",
    "        plt.show()\n",
    "        i += 1\n",
    "        break\n",
    "    break"
   ]
  }
 ],
 "metadata": {
  "kernelspec": {
   "display_name": "colorec",
   "language": "python",
   "name": "python3"
  },
  "language_info": {
   "codemirror_mode": {
    "name": "ipython",
    "version": 3
   },
   "file_extension": ".py",
   "mimetype": "text/x-python",
   "name": "python",
   "nbconvert_exporter": "python",
   "pygments_lexer": "ipython3",
   "version": "3.12.0"
  }
 },
 "nbformat": 4,
 "nbformat_minor": 2
}
