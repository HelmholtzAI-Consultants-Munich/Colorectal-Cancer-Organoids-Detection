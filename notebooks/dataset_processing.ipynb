{
 "cells": [
  {
   "cell_type": "markdown",
   "metadata": {},
   "source": [
    "This notebook is a collection of independednt cells to preform certain actions on th datasets"
   ]
  },
  {
   "cell_type": "markdown",
   "metadata": {},
   "source": [
    "# Correct boxes coordinates\n",
    "\n",
    "Cooorect box coordinates when they are not soter on the correct order"
   ]
  },
  {
   "cell_type": "code",
   "execution_count": null,
   "metadata": {},
   "outputs": [],
   "source": [
    "import sys\n",
    "import os\n",
    "sys.path.append(os.path.dirname(os.getcwd()))\n",
    "\n",
    "import pandas as pd\n",
    "from src.utils.utils import get_images_paths, get_annotations_paths\n",
    "from src.utils.annotation_utils import bbox_xyxy_to_box, bbox_box_to_xyxy\n",
    "from src.utils.const import *\n",
    "\n",
    "datasets = [\n",
    "    \"../dataset/merge_together_corrected_m\",\n",
    "    \"../dataset/merge_alone_1_corrected_m\",\n",
    "    \"../dataset/merge_alone_2_corrected_LT_m\",\n",
    "    \"../dataset/merge_alone_3_corrected_EK_m\",\n",
    "    \"../dataset/merge_alone_1_corrected_LT_m\",\n",
    "    \"../dataset/merge_alone_1_corrected_EK_m\",\n",
    "]\n",
    "for dataset in datasets:\n",
    "    images_paths = get_images_paths(dataset)\n",
    "    annotations_path = get_annotations_paths(images_paths, dataset)\n",
    "\n",
    "    for annotation_path in annotations_path:\n",
    "        bboxes = pd.read_csv(annotation_path, index_col=0, sep=\",\")\n",
    "        bboxes_2 = bbox_xyxy_to_box(bboxes)\n",
    "        bboxes_2 = bbox_box_to_xyxy(bboxes_2)\n",
    "        bboxes[['x1', 'y1', 'x2', 'y2']] = bboxes_2\n",
    "        bboxes.to_csv(annotation_path, sep=\",\")\n",
    "        print(f\"Annotation {annotation_path} is saved.\")"
   ]
  },
  {
   "cell_type": "markdown",
   "metadata": {},
   "source": [
    "# Merge differnt datasets"
   ]
  },
  {
   "cell_type": "code",
   "execution_count": 37,
   "metadata": {},
   "outputs": [
    {
     "name": "stdout",
     "output_type": "stream",
     "text": [
      "Dataset length:  20\n",
      "Dataset length:  20\n",
      "Dataset length:  30\n",
      "Dataset length:  30\n",
      "Output dataset_size:  100\n"
     ]
    }
   ],
   "source": [
    "# merge datasets\n",
    "from src.utils.utils import get_images_paths, get_annotations_paths\n",
    "import shutil\n",
    "import os\n",
    "\n",
    "datasets = [\n",
    "    \"../dataset/merge_together_corrected_m\",\n",
    "    \"../dataset/merge_alone_1_corrected_m\",\n",
    "    \"../dataset/merge_alone_2_corrected_LT_m\",\n",
    "    \"../dataset/merge_alone_3_corrected_EK_m\",\n",
    "]\n",
    "output_dataset_path = \"../dataset/complete_dataset\"\n",
    "\n",
    "for dataset in datasets:\n",
    "    images_paths = get_images_paths(dataset)\n",
    "    print(\"Dataset length: \", len(images_paths))\n",
    "    annotation_paths = get_annotations_paths(images_paths, dataset)\n",
    "    for image_path, annotation_path in zip(images_paths, annotation_paths):\n",
    "        # copy image\n",
    "        image_rel_path = os.path.relpath(image_path, dataset)\n",
    "        annotation_rel_path = os.path.relpath(annotation_path, dataset)\n",
    "        # create directories\n",
    "        image_path_2 = os.path.join(output_dataset_path, image_rel_path)\n",
    "        annotation_path_2 = os.path.join(output_dataset_path, annotation_rel_path)\n",
    "        os.makedirs(os.path.dirname(image_path_2), exist_ok=True)\n",
    "        os.makedirs(os.path.dirname(annotation_path_2), exist_ok=True)\n",
    "        shutil.copy(image_path, image_path_2)\n",
    "        shutil.copy(annotation_path, annotation_path_2)\n",
    "# check if the dataset is correct\n",
    "print(\"Output dataset_size: \",len(get_images_paths(output_dataset_path)))\n",
    "\n"
   ]
  },
  {
   "cell_type": "markdown",
   "metadata": {},
   "source": [
    "# Numver of different images"
   ]
  },
  {
   "cell_type": "code",
   "execution_count": 2,
   "metadata": {},
   "outputs": [
    {
     "name": "stdout",
     "output_type": "stream",
     "text": [
      "Current images paths:  70\n",
      "Current annotations paths:  70\n",
      "Current images paths:  15\n",
      "Current annotations paths:  15\n",
      "Current images paths:  15\n",
      "Current annotations paths:  15\n",
      "Images paths:  100\n",
      "Annotations paths:  100\n"
     ]
    }
   ],
   "source": [
    "from src.utils.utils import get_images_paths, get_annotations_paths\n",
    "\n",
    "\n",
    "datasets = [\n",
    "    \"../dataset_cluster/train\",\n",
    "    \"../dataset_cluster/val\",\n",
    "    \"../dataset_cluster/test\",\n",
    "]\n",
    "\n",
    "datasets = [\n",
    "    \"../dataset/train\",\n",
    "    \"../dataset/val\",\n",
    "    \"../dataset/test\",\n",
    "]\n",
    "\n",
    "images_paths = set()\n",
    "annotation_paths = set()\n",
    "for dataset in datasets:\n",
    "    images_paths_temp = get_images_paths(dataset)\n",
    "    annotations_paths_temp = get_annotations_paths(images_paths_temp, dataset)\n",
    "    images_paths.update(images_paths_temp)\n",
    "    annotation_paths.update(annotations_paths_temp)\n",
    "    print(\"Current images paths: \", len(images_paths_temp))\n",
    "    print(\"Current annotations paths: \", len(annotations_paths_temp))\n",
    "print(\"Images paths: \", len(images_paths))\n",
    "print(\"Annotations paths: \", len(annotation_paths))"
   ]
  },
  {
   "cell_type": "code",
   "execution_count": 7,
   "metadata": {},
   "outputs": [
    {
     "name": "stdout",
     "output_type": "stream",
     "text": [
      "Annotation ../dataset/merge_together_corrected/annotations/D223_CTRL_d9/Bortezomib/4x_XY291_Z001_CH4_box.csv is saved.\n",
      "Annotation ../dataset/merge_together_corrected/annotations/D223_CTRL_d9/DMSO/4x_XY36_Z001_CH4_box.csv is saved.\n",
      "Annotation ../dataset/merge_together_corrected/annotations/D223_CTRL_d9/DMSO/4x_XY287_Z001_CH4_box.csv is saved.\n",
      "Annotation ../dataset/merge_together_corrected/annotations/D223_CTRL_d9/Intermediate_response/4x_XY200_Z001_CH4_box.csv is saved.\n",
      "Annotation ../dataset/merge_together_corrected/annotations/D223_CTRL_d9/Intermediate_response/4x_XY194_Z001_CH4_box.csv is saved.\n",
      "Annotation ../dataset/merge_together_corrected/annotations/D223_CTRL_d9/Intermediate_response/4x_XY150_Z001_CH4_box.csv is saved.\n",
      "Annotation ../dataset/merge_together_corrected/annotations/D284_DMSO_d9/DMSO/4x_XY363_Z001_CH4_box.csv is saved.\n",
      "Annotation ../dataset/merge_together_corrected/annotations/D284_DMSO_d9/DMSO/4x_XY167_Z001_CH4_box.csv is saved.\n",
      "Annotation ../dataset/merge_together_corrected/annotations/D284_DMSO_d9/Intermediate_response/4x_XY47_Z001_CH4_box.csv is saved.\n",
      "Annotation ../dataset/merge_together_corrected/annotations/D284_DMSO_d9/Intermediate_response/4x_XY179_Z001_CH4_box.csv is saved.\n",
      "Annotation ../dataset/merge_together_corrected/annotations/D284_DMSO_d9/Intermediate_response/4x_XY108_Z001_CH4_box.csv is saved.\n",
      "Annotation ../dataset/merge_together_corrected/annotations/D284_DMSO_d9/Intermediate_response/4x_XY75_Z001_CH4_box.csv is saved.\n",
      "Annotation ../dataset/merge_together_corrected/annotations/D284_TREAT_d9/DMSO/4x_XY277_Z001_CH4_box.csv is saved.\n",
      "Annotation ../dataset/merge_together_corrected/annotations/D284_TREAT_d9/DMSO/4x_XY217_Z001_CH4_box.csv is saved.\n",
      "Annotation ../dataset/merge_together_corrected/annotations/D131_CTRL_d9/Bortezomib/10x_XY147_Z001_CH4_box.csv is saved.\n",
      "Annotation ../dataset/merge_together_corrected/annotations/D131_CTRL_d9/DMSO/10x_XY373_Z001_CH4_box.csv is saved.\n",
      "Annotation ../dataset/merge_together_corrected/annotations/D131_CTRL_d9/Intermediate_response/10x_XY107_Z001_CH4_box.csv is saved.\n",
      "Annotation ../dataset/merge_together_corrected/annotations/D131_CTRL_d9/Intermediate_response/10x_XY76_Z001_CH4_box.csv is saved.\n",
      "Annotation ../dataset/merge_together_corrected/annotations/D131_CTRL_d9/Intermediate_response/10x_XY52_Z001_CH4_box.csv is saved.\n",
      "Annotation ../dataset/merge_together_corrected/annotations/D131_CTRL_d9/Intermediate_response/10x_XY203_Z001_CH4_box.csv is saved.\n",
      "Annotation ../dataset/merge_alone_1_corrected_LT/annotations/D223_CTRL_d9/Bortezomib/4x_XY34_Z001_CH4_box.csv is saved.\n",
      "Annotation ../dataset/merge_alone_1_corrected_LT/annotations/D223_CTRL_d9/DMSO/4x_XY129_Z001_CH4_box.csv is saved.\n",
      "Annotation ../dataset/merge_alone_1_corrected_LT/annotations/D223_CTRL_d9/Intermediate_response/4x_XY183_Z001_CH4_box.csv is saved.\n",
      "Annotation ../dataset/merge_alone_1_corrected_LT/annotations/D223_CTRL_d9/Intermediate_response/4x_XY202_Z001_CH4_box.csv is saved.\n",
      "Annotation ../dataset/merge_alone_1_corrected_LT/annotations/D223_CTRL_d9/Intermediate_response/4x_XY79_Z001_CH4_box.csv is saved.\n",
      "Annotation ../dataset/merge_alone_1_corrected_LT/annotations/D223_CTRL_d9/Intermediate_response/4x_XY39_Z001_CH4_box.csv is saved.\n",
      "Annotation ../dataset/merge_alone_1_corrected_LT/annotations/D223_CTRL_d9/Intermediate_response/4x_XY127_Z001_CH4_box.csv is saved.\n",
      "Annotation ../dataset/merge_alone_1_corrected_LT/annotations/D284_DMSO_d9/Intermediate_response/4x_XY113_Z001_CH4_box.csv is saved.\n",
      "Annotation ../dataset/merge_alone_1_corrected_LT/annotations/D284_DMSO_d9/Intermediate_response/4x_XY106_Z001_CH4_box.csv is saved.\n",
      "Annotation ../dataset/merge_alone_1_corrected_LT/annotations/D284_DMSO_d9/Intermediate_response/4x_XY55_Z001_CH4_box.csv is saved.\n",
      "Annotation ../dataset/merge_alone_1_corrected_LT/annotations/D284_DMSO_d9/Intermediate_response/4x_XY176_Z001_CH4_box.csv is saved.\n",
      "Annotation ../dataset/merge_alone_1_corrected_LT/annotations/D284_DMSO_d9/Intermediate_response/4x_XY321_Z001_CH4_box.csv is saved.\n",
      "Annotation ../dataset/merge_alone_1_corrected_LT/annotations/D284_TREAT_d9/DMSO/4x_XY254_Z001_CH4_box.csv is saved.\n",
      "Annotation ../dataset/merge_alone_1_corrected_LT/annotations/D284_TREAT_d9/Intermediate_response/4x_XY267_Z001_CH4_box.csv is saved.\n",
      "Annotation ../dataset/merge_alone_1_corrected_LT/annotations/D131_CTRL_d9/DMSO/10x_XY169_Z001_CH4_box.csv is saved.\n",
      "Annotation ../dataset/merge_alone_1_corrected_LT/annotations/D131_CTRL_d9/Intermediate_response/10x_XY92_Z001_CH4_box.csv is saved.\n",
      "Annotation ../dataset/merge_alone_1_corrected_LT/annotations/D131_CTRL_d9/Intermediate_response/10x_XY154_Z001_CH4_box.csv is saved.\n",
      "Annotation ../dataset/merge_alone_1_corrected_LT/annotations/D131_CTRL_d9/Intermediate_response/10x_XY109_Z001_CH4_box.csv is saved.\n",
      "Annotation ../dataset/merge_alone_1_corrected_LT/annotations/D131_CTRL_d9/Intermediate_response/10x_XY133_Z001_CH4_box.csv is saved.\n",
      "Annotation ../dataset/merge_alone_1_corrected_LT/annotations/D131_CTRL_d9/Intermediate_response/10x_XY150_Z001_CH4_box.csv is saved.\n",
      "Annotation ../dataset/merge_alone_1_corrected_EK/annotations/D223_CTRL_d9/Bortezomib/4x_XY34_Z001_CH4_box.csv is saved.\n",
      "Annotation ../dataset/merge_alone_1_corrected_EK/annotations/D223_CTRL_d9/DMSO/4x_XY129_Z001_CH4_box.csv is saved.\n",
      "Annotation ../dataset/merge_alone_1_corrected_EK/annotations/D223_CTRL_d9/Intermediate_response/4x_XY183_Z001_CH4_box.csv is saved.\n",
      "Annotation ../dataset/merge_alone_1_corrected_EK/annotations/D223_CTRL_d9/Intermediate_response/4x_XY202_Z001_CH4_box.csv is saved.\n",
      "Annotation ../dataset/merge_alone_1_corrected_EK/annotations/D223_CTRL_d9/Intermediate_response/4x_XY79_Z001_CH4_box.csv is saved.\n",
      "Annotation ../dataset/merge_alone_1_corrected_EK/annotations/D223_CTRL_d9/Intermediate_response/4x_XY39_Z001_CH4_box.csv is saved.\n",
      "Annotation ../dataset/merge_alone_1_corrected_EK/annotations/D223_CTRL_d9/Intermediate_response/4x_XY127_Z001_CH4_box.csv is saved.\n",
      "Annotation ../dataset/merge_alone_1_corrected_EK/annotations/D284_DMSO_d9/Intermediate_response/4x_XY113_Z001_CH4_box.csv is saved.\n",
      "Annotation ../dataset/merge_alone_1_corrected_EK/annotations/D284_DMSO_d9/Intermediate_response/4x_XY106_Z001_CH4_box.csv is saved.\n",
      "Annotation ../dataset/merge_alone_1_corrected_EK/annotations/D284_DMSO_d9/Intermediate_response/4x_XY55_Z001_CH4_box.csv is saved.\n",
      "Annotation ../dataset/merge_alone_1_corrected_EK/annotations/D284_DMSO_d9/Intermediate_response/4x_XY176_Z001_CH4_box.csv is saved.\n",
      "Annotation ../dataset/merge_alone_1_corrected_EK/annotations/D284_DMSO_d9/Intermediate_response/4x_XY321_Z001_CH4_box.csv is saved.\n",
      "Annotation ../dataset/merge_alone_1_corrected_EK/annotations/D284_TREAT_d9/DMSO/4x_XY254_Z001_CH4_box.csv is saved.\n",
      "Annotation ../dataset/merge_alone_1_corrected_EK/annotations/D284_TREAT_d9/Intermediate_response/4x_XY267_Z001_CH4_box.csv is saved.\n",
      "Annotation ../dataset/merge_alone_1_corrected_EK/annotations/D131_CTRL_d9/DMSO/10x_XY169_Z001_CH4_box.csv is saved.\n",
      "Annotation ../dataset/merge_alone_1_corrected_EK/annotations/D131_CTRL_d9/Intermediate_response/10x_XY92_Z001_CH4_box.csv is saved.\n",
      "Annotation ../dataset/merge_alone_1_corrected_EK/annotations/D131_CTRL_d9/Intermediate_response/10x_XY154_Z001_CH4_box.csv is saved.\n",
      "Annotation ../dataset/merge_alone_1_corrected_EK/annotations/D131_CTRL_d9/Intermediate_response/10x_XY109_Z001_CH4_box.csv is saved.\n",
      "Annotation ../dataset/merge_alone_1_corrected_EK/annotations/D131_CTRL_d9/Intermediate_response/10x_XY133_Z001_CH4_box.csv is saved.\n",
      "Annotation ../dataset/merge_alone_1_corrected_EK/annotations/D131_CTRL_d9/Intermediate_response/10x_XY150_Z001_CH4_box.csv is saved.\n",
      "Annotation ../dataset/merge_alone_2_corrected_LT/annotations/D223_CTRL_d9/Intermediate_response/4x_XY290_Z001_CH4_box.csv is saved.\n",
      "Annotation ../dataset/merge_alone_2_corrected_LT/annotations/D223_CTRL_d9/Intermediate_response/4x_XY376_Z001_CH4_box.csv is saved.\n",
      "Annotation ../dataset/merge_alone_2_corrected_LT/annotations/D223_CTRL_d9/Intermediate_response/4x_XY33_Z001_CH4_box.csv is saved.\n",
      "Annotation ../dataset/merge_alone_2_corrected_LT/annotations/D223_CTRL_d9/Intermediate_response/4x_XY32_Z001_CH4_box.csv is saved.\n",
      "Annotation ../dataset/merge_alone_2_corrected_LT/annotations/D284_DMSO_d9/Bortezomib/4x_XY283_Z001_CH4_box.csv is saved.\n",
      "Annotation ../dataset/merge_alone_2_corrected_LT/annotations/D284_DMSO_d9/Bortezomib/4x_XY271_Z001_CH4_box.csv is saved.\n",
      "Annotation ../dataset/merge_alone_2_corrected_LT/annotations/D284_DMSO_d9/DMSO/4x_XY372_Z001_CH4_box.csv is saved.\n",
      "Annotation ../dataset/merge_alone_2_corrected_LT/annotations/D284_DMSO_d9/DMSO/4x_XY195_Z001_CH4_box.csv is saved.\n",
      "Annotation ../dataset/merge_alone_2_corrected_LT/annotations/D284_DMSO_d9/Intermediate_response/4x_XY147_Z001_CH4_box.csv is saved.\n",
      "Annotation ../dataset/merge_alone_2_corrected_LT/annotations/D284_DMSO_d9/Intermediate_response/4x_XY119_Z001_CH4_box.csv is saved.\n",
      "Annotation ../dataset/merge_alone_2_corrected_LT/annotations/D284_DMSO_d9/Intermediate_response/4x_XY221_Z001_CH4_box.csv is saved.\n",
      "Annotation ../dataset/merge_alone_2_corrected_LT/annotations/D284_DMSO_d9/Intermediate_response/4x_XY86_Z001_CH4_box.csv is saved.\n",
      "Annotation ../dataset/merge_alone_2_corrected_LT/annotations/D284_DMSO_d9/Intermediate_response/4x_XY134_Z001_CH4_box.csv is saved.\n",
      "Annotation ../dataset/merge_alone_2_corrected_LT/annotations/D284_TREAT_d9/Bortezomib/4x_XY147_Z001_CH4_box.csv is saved.\n",
      "Annotation ../dataset/merge_alone_2_corrected_LT/annotations/D284_TREAT_d9/Bortezomib/4x_XY158_Z001_CH4_box.csv is saved.\n",
      "Annotation ../dataset/merge_alone_2_corrected_LT/annotations/D284_TREAT_d9/Intermediate_response/4x_XY269_Z001_CH4_box.csv is saved.\n",
      "Annotation ../dataset/merge_alone_2_corrected_LT/annotations/D284_TREAT_d9/Intermediate_response/4x_XY230_Z001_CH4_box.csv is saved.\n",
      "Annotation ../dataset/merge_alone_2_corrected_LT/annotations/D284_TREAT_d9/Intermediate_response/4x_XY28_Z001_CH4_box.csv is saved.\n",
      "Annotation ../dataset/merge_alone_2_corrected_LT/annotations/D284_TREAT_d9/Intermediate_response/4x_XY273_Z001_CH4_box.csv is saved.\n",
      "Annotation ../dataset/merge_alone_2_corrected_LT/annotations/D284_TREAT_d9/Intermediate_response/4x_XY33_Z001_CH4_box.csv is saved.\n",
      "Annotation ../dataset/merge_alone_2_corrected_LT/annotations/D131_CTRL_d9/Bortezomib/10x_XY291_Z001_CH4_box.csv is saved.\n",
      "Annotation ../dataset/merge_alone_2_corrected_LT/annotations/D131_CTRL_d9/Bortezomib/10x_XY300_Z001_CH4_box.csv is saved.\n",
      "Annotation ../dataset/merge_alone_2_corrected_LT/annotations/D131_CTRL_d9/DMSO/10x_XY73_Z001_CH4_box.csv is saved.\n",
      "Annotation ../dataset/merge_alone_2_corrected_LT/annotations/D131_CTRL_d9/DMSO/10x_XY265_Z001_CH4_box.csv is saved.\n",
      "Annotation ../dataset/merge_alone_2_corrected_LT/annotations/D131_CTRL_d9/Intermediate_response/10x_XY225_Z001_CH4_box.csv is saved.\n",
      "Annotation ../dataset/merge_alone_2_corrected_LT/annotations/D131_CTRL_d9/Intermediate_response/10x_XY37_Z001_CH4_box.csv is saved.\n",
      "Annotation ../dataset/merge_alone_2_corrected_LT/annotations/D131_CTRL_d9/Intermediate_response/10x_XY70_Z001_CH4_box.csv is saved.\n",
      "Annotation ../dataset/merge_alone_2_corrected_LT/annotations/D131_CTRL_d9/Intermediate_response/10x_XY41_Z001_CH4_box.csv is saved.\n",
      "Annotation ../dataset/merge_alone_2_corrected_LT/annotations/D131_CTRL_d9/Intermediate_response/10x_XY202_Z001_CH4_box.csv is saved.\n",
      "Annotation ../dataset/merge_alone_2_corrected_LT/annotations/D131_CTRL_d9/Intermediate_response/10x_XY148_Z001_CH4_box.csv is saved.\n",
      "Annotation ../dataset/merge_alone_3_corrected_EK/annotations/D223_CTRL_d9/Bortezomib/4x_XY176_Z001_CH4_box.csv is saved.\n",
      "Annotation ../dataset/merge_alone_3_corrected_EK/annotations/D223_CTRL_d9/Bortezomib/4x_XY69_Z001_CH4_box.csv is saved.\n",
      "Annotation ../dataset/merge_alone_3_corrected_EK/annotations/D223_CTRL_d9/Bortezomib/4x_XY48_Z001_CH4_box.csv is saved.\n",
      "Annotation ../dataset/merge_alone_3_corrected_EK/annotations/D223_CTRL_d9/DMSO/4x_XY19_Z001_CH4_box.csv is saved.\n",
      "Annotation ../dataset/merge_alone_3_corrected_EK/annotations/D223_CTRL_d9/DMSO/4x_XY360_Z001_CH4_box.csv is saved.\n",
      "Annotation ../dataset/merge_alone_3_corrected_EK/annotations/D223_CTRL_d9/Intermediate_response/4x_XY31_Z001_CH4_box.csv is saved.\n",
      "Annotation ../dataset/merge_alone_3_corrected_EK/annotations/D223_CTRL_d9/Intermediate_response/4x_XY323_Z001_CH4_box.csv is saved.\n",
      "Annotation ../dataset/merge_alone_3_corrected_EK/annotations/D223_CTRL_d9/Intermediate_response/4x_XY199_Z001_CH4_box.csv is saved.\n",
      "Annotation ../dataset/merge_alone_3_corrected_EK/annotations/D284_DMSO_d9/Bortezomib/4x_XY136_Z001_CH4_box.csv is saved.\n",
      "Annotation ../dataset/merge_alone_3_corrected_EK/annotations/D284_DMSO_d9/Bortezomib/4x_XY183_Z001_CH4_box.csv is saved.\n",
      "Annotation ../dataset/merge_alone_3_corrected_EK/annotations/D284_DMSO_d9/Bortezomib/4x_XY48_Z001_CH4_box.csv is saved.\n",
      "Annotation ../dataset/merge_alone_3_corrected_EK/annotations/D284_DMSO_d9/DMSO/4x_XY360_Z001_CH4_box.csv is saved.\n",
      "Annotation ../dataset/merge_alone_3_corrected_EK/annotations/D284_DMSO_d9/Intermediate_response/4x_XY85_Z001_CH4_box.csv is saved.\n",
      "Annotation ../dataset/merge_alone_3_corrected_EK/annotations/D284_TREAT_d9/Bortezomib/4x_XY291_Z001_CH4_box.csv is saved.\n",
      "Annotation ../dataset/merge_alone_3_corrected_EK/annotations/D284_TREAT_d9/Bortezomib/4x_XY311_Z001_CH4_box.csv is saved.\n",
      "Annotation ../dataset/merge_alone_3_corrected_EK/annotations/D284_TREAT_d9/Bortezomib/4x_XY295_Z001_CH4_box.csv is saved.\n",
      "Annotation ../dataset/merge_alone_3_corrected_EK/annotations/D284_TREAT_d9/DMSO/4x_XY368_Z001_CH4_box.csv is saved.\n",
      "Annotation ../dataset/merge_alone_3_corrected_EK/annotations/D284_TREAT_d9/DMSO/4x_XY369_Z001_CH4_box.csv is saved.\n",
      "Annotation ../dataset/merge_alone_3_corrected_EK/annotations/D284_TREAT_d9/Intermediate_response/4x_XY54_Z001_CH4_box.csv is saved.\n",
      "Annotation ../dataset/merge_alone_3_corrected_EK/annotations/D284_TREAT_d9/Intermediate_response/4x_XY30_Z001_CH4_box.csv is saved.\n",
      "Annotation ../dataset/merge_alone_3_corrected_EK/annotations/D284_TREAT_d9/Intermediate_response/4x_XY83_Z001_CH4_box.csv is saved.\n",
      "Annotation ../dataset/merge_alone_3_corrected_EK/annotations/D284_TREAT_d9/Intermediate_response/4x_XY246_Z001_CH4_box.csv is saved.\n",
      "Annotation ../dataset/merge_alone_3_corrected_EK/annotations/D284_TREAT_d9/Intermediate_response/4x_XY126_Z001_CH4_box.csv is saved.\n",
      "Annotation ../dataset/merge_alone_3_corrected_EK/annotations/D284_TREAT_d9/Intermediate_response/4x_XY27_Z001_CH4_box.csv is saved.\n",
      "Annotation ../dataset/merge_alone_3_corrected_EK/annotations/D131_CTRL_d9/Bortezomib/10x_XY306_Z001_CH4_box.csv is saved.\n",
      "Annotation ../dataset/merge_alone_3_corrected_EK/annotations/D131_CTRL_d9/Bortezomib/10x_XY295_Z001_CH4_box.csv is saved.\n",
      "Annotation ../dataset/merge_alone_3_corrected_EK/annotations/D131_CTRL_d9/DMSO/10x_XY378_Z001_CH4_box.csv is saved.\n",
      "Annotation ../dataset/merge_alone_3_corrected_EK/annotations/D131_CTRL_d9/Intermediate_response/10x_XY87_Z001_CH4_box.csv is saved.\n",
      "Annotation ../dataset/merge_alone_3_corrected_EK/annotations/D131_CTRL_d9/Intermediate_response/10x_XY113_Z001_CH4_box.csv is saved.\n",
      "Annotation ../dataset/merge_alone_3_corrected_EK/annotations/D131_CTRL_d9/Intermediate_response/10x_XY90_Z001_CH4_box.csv is saved.\n"
     ]
    }
   ],
   "source": [
    "import cv2\n",
    "from src.utils.utils import get_images_paths, get_annotations_paths\n",
    "from src.utils.annotation_utils import bbox_xyxy_to_box, bbox_box_to_xyxy\n",
    "import pandas as pd\n",
    "\n",
    "# put boxes in the image dimensions\n",
    "datasets = [\n",
    "    \"../dataset/merge_together_corrected\",\n",
    "    \"../dataset/merge_alone_1_corrected_LT\",\n",
    "    \"../dataset/merge_alone_1_corrected_EK\",\n",
    "    \"../dataset/merge_alone_2_corrected_LT\",\n",
    "    \"../dataset/merge_alone_3_corrected_EK\",\n",
    "]\n",
    "\n",
    "for dataset in datasets:\n",
    "    images_paths = get_images_paths(dataset)\n",
    "    annotations_path = get_annotations_paths(images_paths, dataset)\n",
    "\n",
    "    for annotation_path, image_path in zip(annotations_path, images_paths):\n",
    "        # get image size\n",
    "        image = cv2.imread(image_path)\n",
    "        h, w, _ = image.shape\n",
    "\n",
    "        bboxes = pd.read_csv(annotation_path, index_col=0, sep=\",\")\n",
    "        bboxes_2 = bbox_xyxy_to_box(bboxes)\n",
    "        bboxes_2 = bbox_box_to_xyxy(bboxes_2)\n",
    "        bboxes[['x1', 'y1', 'x2', 'y2']] = bboxes_2\n",
    "        # check if the boxes are in the image dimensions\n",
    "        bboxes['x1'] = bboxes['x1'].clip(0, w)\n",
    "        bboxes['y1'] = bboxes['y1'].clip(0, h)\n",
    "        bboxes['x2'] = bboxes['x2'].clip(0, w)\n",
    "        bboxes['y2'] = bboxes['y2'].clip(0, h)\n",
    "\n",
    "        bboxes.to_csv(annotation_path, sep=\",\")\n",
    "        print(f\"Annotation {annotation_path} is saved.\")"
   ]
  },
  {
   "cell_type": "code",
   "execution_count": 3,
   "metadata": {},
   "outputs": [
    {
     "data": {
      "image/png": "[encoded data removed]",
      "text/plain": [
       "<Figure size 640x480 with 1 Axes>"
      ]
     },
     "metadata": {},
     "output_type": "display_data"
    },
    {
     "name": "stdout",
     "output_type": "stream",
     "text": [
      "hi\n"
     ]
    },
    {
     "data": {
      "image/png": "[encoded data removed]",
      "text/plain": [
       "<Figure size 640x480 with 1 Axes>"
      ]
     },
     "metadata": {},
     "output_type": "display_data"
    }
   ],
   "source": [
    "import torch\n",
    "from src.utils.data_utils import *\n",
    "import matplotlib.pyplot as plt\n",
    "\n",
    "masks = torch.zeros((1, 1, 50, 50), dtype=torch.uint8)\n",
    "boxes = torch.tensor([[10,20, 40, 40]], dtype=torch.float32)\n",
    "plt.imshow(masks[0, 0].numpy())\n",
    "plt.show()\n",
    "\n",
    "padded_masks = fill_empty_masks(masks, boxes)\n",
    "plt.imshow(padded_masks[0, 0].numpy())\n",
    "plt.show()"
   ]
  }
 ],
 "metadata": {
  "kernelspec": {
   "display_name": "colorec",
   "language": "python",
   "name": "python3"
  },
  "language_info": {
   "codemirror_mode": {
    "name": "ipython",
    "version": 3
   },
   "file_extension": ".py",
   "mimetype": "text/x-python",
   "name": "python",
   "nbconvert_exporter": "python",
   "pygments_lexer": "ipython3",
   "version": "3.12.0"
  }
 },
 "nbformat": 4,
 "nbformat_minor": 2
}
