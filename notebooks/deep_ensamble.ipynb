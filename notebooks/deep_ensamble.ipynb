{
 "cells": [
  {
   "cell_type": "markdown",
   "id": "f2a03ccb",
   "metadata": {},
   "source": [
    "# Deep ensambles\n",
    "\n",
    "In this notebook we investigate the effect of using deep ensambles on the calibration of the model uncertainty prediction.\n",
    "\n",
    "1. The ensamble of models is obtained by picking the best 5 of 10 trained instances, which diferentiate in the traiing hyperparameters.\n",
    "2. the models predictions are grouped together via Hugarian algorithms iwth a given IoU threshold\n",
    "3. The detections belonging to the same group are aggragated according to several aggregation methods: score average, max score, weighted average of the box coordinates...."
   ]
  },
  {
   "cell_type": "code",
   "execution_count": 1,
   "id": "6388ae04",
   "metadata": {},
   "outputs": [
    {
     "name": "stderr",
     "output_type": "stream",
     "text": [
      "/Users/francesco/miniconda3/envs/colorec/lib/python3.12/site-packages/albumentations/__init__.py:28: UserWarning: A new version of Albumentations is available: '2.0.8' (you have '2.0.5'). Upgrade using: pip install -U albumentations. To disable automatic update checks, set the environment variable NO_ALBUMENTATIONS_UPDATE to 1.\n",
      "  check_for_updates()\n"
     ]
    }
   ],
   "source": [
    "import os\n",
    "import sys\n",
    "import shutil\n",
    "import pickle as pkl\n",
    "from tqdm import tqdm\n",
    "sys.path.append(os.path.dirname(os.path.dirname(os.getcwd())))\n",
    "\n",
    "import torch\n",
    "from torch.utils.data import DataLoader\n",
    "import pandas as pd\n",
    "import numpy as np\n",
    "from scipy.optimize import linear_sum_assignment\n",
    "from matplotlib import pyplot as plt\n",
    "\n",
    "\n",
    "\n",
    "from src.model.dataset import InferenceMaskRCNNDataset, MaskRCNNDataset\n",
    "from src.model.engine import FitterMaskRCNN\n",
    "from src.model.model import maskRCNNModel"
   ]
  },
  {
   "cell_type": "markdown",
   "id": "33d76492",
   "metadata": {},
   "source": [
    "## 1. Load the models and the data\n",
    "\n"
   ]
  },
  {
   "cell_type": "code",
   "execution_count": 2,
   "id": "f9221681",
   "metadata": {},
   "outputs": [
    {
     "name": "stderr",
     "output_type": "stream",
     "text": [
      "/Users/francesco/miniconda3/envs/colorec/lib/python3.12/site-packages/albumentations/core/composition.py:250: UserWarning: Got processor for bboxes, but no transform to process it.\n",
      "  self._set_keys()\n"
     ]
    }
   ],
   "source": [
    "iou_threshold = 0.5\n",
    "bins_extremes=[0, 0.1, 0.2, 0.3, 0.4, 0.5, 0.6, 0.7, 0.8, 0.9, 1]\n",
    "labels = list(range(len(bins_extremes) - 1))\n",
    "\n",
    "\n",
    "model_aug_dir = \"../weights/ensamble/aug\"\n",
    "model_no_aug_dir = \"../weights/ensamble/no_aug\"\n",
    "\n",
    "train_dataset_path = \"../dataset/train\"\n",
    "val_dataset_path = \"../dataset/val\"\n",
    "test_dataset_path = \"../dataset/test\"\n",
    "\n",
    "output_dir = \"ensamble_predictions\"\n",
    "if not os.path.exists(output_dir):\n",
    "    os.makedirs(output_dir)\n",
    "\n",
    "train_dataset = MaskRCNNDataset(train_dataset_path, datatype=\"eval\")\n",
    "val_dataset = MaskRCNNDataset(val_dataset_path, datatype=\"eval\")\n",
    "test_dataset = MaskRCNNDataset(test_dataset_path, datatype=\"eval\")\n",
    "train_loader = DataLoader(train_dataset, batch_size=4, shuffle=False, collate_fn = lambda x: tuple(zip(*x)))\n",
    "val_loader = DataLoader(val_dataset, batch_size=4, shuffle=False, collate_fn = lambda x: tuple(zip(*x)))\n",
    "test_loader = DataLoader(test_dataset, batch_size=4, shuffle=False, collate_fn = lambda x: tuple(zip(*x)))\n",
    "\n",
    "engine = FitterMaskRCNN()\n",
    "\n",
    "test_predictions = {}\n",
    "# run inference on the test set\n",
    "for model_dir in [model_aug_dir, model_no_aug_dir]:\n",
    "    for model_path in os.listdir(model_dir):\n",
    "        if not model_path.endswith(\".bin\"):\n",
    "            continue\n",
    "        prediciton_path = os.path.join(output_dir, f\"{model_path.split('.')[0]}_test_predictions.pkl\")\n",
    "        if os.path.exists(prediciton_path):\n",
    "            compressed_pred = pkl.load(open(prediciton_path, \"rb\"))\n",
    "        else:\n",
    "            print(f\"Running inference on {model_path} from {model_dir}\")\n",
    "            model = maskRCNNModel()\n",
    "            model.load_state_dict(torch.load(os.path.join(model_dir, model_path), map_location=torch.device('cpu'))['model_state_dict'])\n",
    "            model.eval()\n",
    "            \n",
    "            # We want to keep all the predictions for our analisys\n",
    "            predictinos = engine.inference(model, test_loader, 0.0)\n",
    "            compressed_pred = {}\n",
    "            for i, pred in enumerate(predictinos):\n",
    "                if pred is not None:\n",
    "                    compressed_pred[i] = {\n",
    "                        \"boxes\": pred[\"boxes\"].cpu().numpy(),\n",
    "                        \"scores\": pred[\"scores\"].cpu().numpy(),\n",
    "                    }\n",
    "            # Save the prediciton\n",
    "            pkl.dump(compressed_pred, open(prediciton_path, \"wb\"))\n",
    "        test_predictions[model_path.split('.')[0]] = compressed_pred\n"
   ]
  },
  {
   "cell_type": "markdown",
   "id": "ee566234",
   "metadata": {},
   "source": [
    "# Merge the predicitons\n",
    "\n",
    "Naive algorithm: each group is a maximally large set of predictinos (of different models) that have an IOU greater than "
   ]
  },
  {
   "cell_type": "code",
   "execution_count": 3,
   "id": "e5f0493e",
   "metadata": {},
   "outputs": [],
   "source": [
    "def compute_iou(box_1, box_2):\n",
    "    # compute the intersection over union of two bounding boxes\n",
    "    x1 = max(box_1[0], box_2[0])\n",
    "    y1 = max(box_1[1], box_2[1])\n",
    "    x2 = min(box_1[2], box_2[2])\n",
    "    y2 = min(box_1[3], box_2[3])\n",
    "    \n",
    "    intersection = max(0, x2 - x1) * max(0, y2 - y1)\n",
    "    area_box_1 = (box_1[2] - box_1[0]) * (box_1[3] - box_1[1])\n",
    "    area_box_2 = (box_2[2] - box_2[0]) * (box_2[3] - box_2[1])\n",
    "    \n",
    "    union = area_box_1 + area_box_2 - intersection\n",
    "    \n",
    "    if union == 0:\n",
    "        return 0.0\n",
    "    return intersection / union\n",
    "\n",
    "def compute_iou_matrix(bboxes_1, bboxes_2):\n",
    "    # compute the iou matrix\n",
    "    iou_matrix = np.zeros((len(bboxes_1), len(bboxes_2)))\n",
    "    for i, box_1 in enumerate(bboxes_1):\n",
    "        for j, box_2 in enumerate(bboxes_2):\n",
    "            iou_matrix[i, j] = compute_iou(box_1, box_2)\n",
    "    return iou_matrix\n",
    "\n",
    "def compute_iou_group(group, bboxes):\n",
    "    iou_matrix = compute_iou_matrix(group,bboxes)\n",
    "    return np.min(iou_matrix, axis=0)\n",
    "\n",
    "def instance_matcher(iou_matrix, iou_threshold: float = 0.5):\n",
    "    # filter out the matches with low iou\n",
    "    iou_matrix[iou_matrix < iou_threshold] = 0\n",
    "    # Hungarian algorithm\n",
    "    row_ind, col_ind = linear_sum_assignment(iou_matrix, maximize=True)\n",
    "    # fileter out the matches (some of them might be an artifact of the Hungarian algorithm)\n",
    "    row_ind_threshold = []\n",
    "    col_ind_threshold = []\n",
    "    for i, j in zip(row_ind, col_ind):\n",
    "        if iou_matrix[i, j] >= iou_threshold:\n",
    "            row_ind_threshold.append(i)\n",
    "            col_ind_threshold.append(j)\n",
    "    return row_ind_threshold, col_ind_threshold\n",
    "\n"
   ]
  },
  {
   "cell_type": "code",
   "execution_count": 25,
   "id": "c5280262",
   "metadata": {},
   "outputs": [
    {
     "name": "stderr",
     "output_type": "stream",
     "text": [
      " 60%|██████    | 9/15 [00:00<00:00, 32.31it/s]"
     ]
    },
    {
     "name": "stdout",
     "output_type": "stream",
     "text": [
      "Using 1 models\n"
     ]
    },
    {
     "name": "stderr",
     "output_type": "stream",
     "text": [
      "100%|██████████| 15/15 [00:00<00:00, 28.33it/s]\n",
      "  0%|          | 0/15 [00:00<?, ?it/s]"
     ]
    },
    {
     "name": "stdout",
     "output_type": "stream",
     "text": [
      "Using 2 models\n"
     ]
    },
    {
     "name": "stderr",
     "output_type": "stream",
     "text": [
      "100%|██████████| 15/15 [00:03<00:00,  4.54it/s]\n",
      "  7%|▋         | 1/15 [00:00<00:02,  4.80it/s]"
     ]
    },
    {
     "name": "stdout",
     "output_type": "stream",
     "text": [
      "Using 3 models\n"
     ]
    },
    {
     "name": "stderr",
     "output_type": "stream",
     "text": [
      "100%|██████████| 15/15 [00:09<00:00,  1.57it/s]\n",
      "  0%|          | 0/15 [00:00<?, ?it/s]"
     ]
    },
    {
     "name": "stdout",
     "output_type": "stream",
     "text": [
      "Using 4 models\n"
     ]
    },
    {
     "name": "stderr",
     "output_type": "stream",
     "text": [
      "100%|██████████| 15/15 [00:20<00:00,  1.40s/it]\n",
      "  0%|          | 0/15 [00:00<?, ?it/s]"
     ]
    },
    {
     "name": "stdout",
     "output_type": "stream",
     "text": [
      "Using 5 models\n"
     ]
    },
    {
     "name": "stderr",
     "output_type": "stream",
     "text": [
      "100%|██████████| 15/15 [00:38<00:00,  2.56s/it]\n",
      "  0%|          | 0/15 [00:00<?, ?it/s]"
     ]
    },
    {
     "name": "stdout",
     "output_type": "stream",
     "text": [
      "Using 6 models\n"
     ]
    },
    {
     "name": "stderr",
     "output_type": "stream",
     "text": [
      "100%|██████████| 15/15 [01:01<00:00,  4.10s/it]\n",
      "  0%|          | 0/15 [00:00<?, ?it/s]"
     ]
    },
    {
     "name": "stdout",
     "output_type": "stream",
     "text": [
      "Using 7 models\n"
     ]
    },
    {
     "name": "stderr",
     "output_type": "stream",
     "text": [
      "100%|██████████| 15/15 [01:36<00:00,  6.41s/it]\n",
      "  0%|          | 0/15 [00:00<?, ?it/s]"
     ]
    },
    {
     "name": "stdout",
     "output_type": "stream",
     "text": [
      "Using 8 models\n"
     ]
    },
    {
     "name": "stderr",
     "output_type": "stream",
     "text": [
      "100%|██████████| 15/15 [28:33<00:00, 114.23s/it]\n",
      "  0%|          | 0/15 [00:00<?, ?it/s]"
     ]
    },
    {
     "name": "stdout",
     "output_type": "stream",
     "text": [
      "Using 9 models\n"
     ]
    },
    {
     "name": "stderr",
     "output_type": "stream",
     "text": [
      "100%|██████████| 15/15 [20:00<00:00, 80.06s/it]\n",
      "  0%|          | 0/15 [00:00<?, ?it/s]"
     ]
    },
    {
     "name": "stdout",
     "output_type": "stream",
     "text": [
      "Using 10 models\n"
     ]
    },
    {
     "name": "stderr",
     "output_type": "stream",
     "text": [
      "100%|██████████| 15/15 [03:08<00:00, 12.54s/it]\n"
     ]
    }
   ],
   "source": [
    "merged_predictions = {}\n",
    "for z in range(len(test_predictions)):\n",
    "    merged_predictions[z] = {}  \n",
    "    for i in tqdm(range(len(test_dataset))):\n",
    "        # Get the predictions for the i-th image\n",
    "        bboxes = []\n",
    "        scores = []\n",
    "        for k, (model_name, predictions) in enumerate(test_predictions.items()):\n",
    "            if i not in predictions:\n",
    "                continue\n",
    "            bboxes.append(predictions[i][\"boxes\"])\n",
    "            scores.append(predictions[i][\"scores\"])\n",
    "            if k == z:\n",
    "                if i == 0:\n",
    "                    print(f\"Using {k+1} models\")\n",
    "                break\n",
    "        \n",
    "        \n",
    "        if len(bboxes) == 0:\n",
    "            continue\n",
    "        \n",
    "        # Compute the IOU matrix    \n",
    "        # Group the predictions based on IOU threshold\n",
    "        merged_bboxes = []\n",
    "        merged_scores = []\n",
    "        # sort by confidence score\n",
    "        bboxes = np.concatenate(bboxes)\n",
    "        scores = np.concatenate(scores)\n",
    "        sorted_indices = np.argsort(-scores)  # Sort indices by descending scores\n",
    "        bboxes = bboxes[sorted_indices]\n",
    "        scores = scores[sorted_indices]\n",
    "        # print(f\"Image {i}: {len(bboxes)} predictions\")\n",
    "        available = [True for _ in range(len(bboxes))]\n",
    "        for j in range(len(bboxes)):\n",
    "            # print(f\"Processing box {j}/{len(bboxes)}\")\n",
    "            if not available[j]:\n",
    "                # print(f\"Box {j} already processed, skipping.\")\n",
    "                continue\n",
    "            # Start a new group with the current box\n",
    "            # print(f\"Starting new group with box {j}\")\n",
    "            group = [j]\n",
    "            bboxes_group = [bboxes[j]]\n",
    "            scores_group = [scores[j]]\n",
    "            available [j] = False\n",
    "            while available.count(True) > 0:\n",
    "                ious = compute_iou_group(bboxes_group, bboxes[available])\n",
    "                k = np.argmax(ious)\n",
    "                if ious[k] < iou_threshold:\n",
    "                    # print(f\"Group {len(merged_bboxes)}: {len(group)} boxes, IOU {ious[k]}\")\n",
    "                    break\n",
    "                # Add the new box to the group\n",
    "                # print(f\"Adding box {np.where(available)[0][k]} to group\")\n",
    "                group.append(np.where(available)[0][k])\n",
    "                bboxes_group.append(bboxes[available][k])\n",
    "                scores_group.append(scores[available][k])\n",
    "                available[np.where(available)[0][k]] = False\n",
    "            merged_bboxes.append(np.mean(bboxes_group, axis=0))\n",
    "            merged_scores.append(np.sum(scores_group)/ len(test_predictions))\n",
    "        merged_predictions[z][i] = {\n",
    "            \"boxes\": np.array(merged_bboxes),\n",
    "            \"scores\": np.array(merged_scores),\n",
    "        }"
   ]
  },
  {
   "cell_type": "markdown",
   "id": "31fb213b",
   "metadata": {},
   "source": [
    "# Process detections\n",
    "\n",
    "Compute how many detections are a true positive and how many are not"
   ]
  },
  {
   "cell_type": "code",
   "execution_count": 28,
   "id": "7bce1acd",
   "metadata": {},
   "outputs": [
    {
     "name": "stdout",
     "output_type": "stream",
     "text": [
      "dict_keys([0, 1, 2, 3, 4, 5, 6, 7, 8, 9])\n",
      "dict_keys([0, 1, 2, 3, 4, 5, 6, 7, 8, 9, 10, 11, 12, 13, 14])\n",
      "{'boxes': array([[1289.6965  , 1166.1692  , 1339.5566  , 1218.6578  ],\n",
      "       [1092.5719  , 1329.6476  , 1123.5431  , 1363.8708  ],\n",
      "       [ 174.67862 ,  839.98505 ,  229.79518 ,  891.8104  ],\n",
      "       [1287.8951  , 1382.536   , 1321.2251  , 1420.6104  ],\n",
      "       [1558.8627  ,  618.6106  , 1603.6294  ,  668.95435 ],\n",
      "       [ 819.5086  ,  955.60803 ,  858.9237  ,  989.3642  ],\n",
      "       [1104.5924  , 1154.9603  , 1138.1975  , 1189.337   ],\n",
      "       [ 982.9106  ,  909.4752  , 1033.6165  ,  958.0414  ],\n",
      "       [1370.9479  ,  735.55804 , 1428.2712  ,  792.79803 ],\n",
      "       [1488.495   ,  217.70596 , 1535.3156  ,  271.2595  ],\n",
      "       [1436.1982  , 1241.5338  , 1467.249   , 1277.1614  ],\n",
      "       [ 609.5307  ,  680.0066  ,  649.0916  ,  718.9882  ],\n",
      "       [ 564.7472  , 1106.9686  ,  643.2349  , 1183.242   ],\n",
      "       [ 190.99524 ,  440.3697  ,  243.93726 ,  489.27945 ],\n",
      "       [ 630.8802  , 1013.72925 ,  657.09314 , 1036.5133  ],\n",
      "       [1602.4865  ,  746.3421  , 1657.6886  ,  801.63477 ],\n",
      "       [1210.3461  , 1105.719   , 1249.9636  , 1148.9231  ],\n",
      "       [1744.7438  , 1108.9694  , 1800.897   , 1172.6538  ],\n",
      "       [1552.9935  ,  700.8929  , 1592.4517  ,  737.65656 ],\n",
      "       [ 468.0001  ,  687.45105 ,  500.7153  ,  722.9098  ],\n",
      "       [1216.556   , 1364.4084  , 1261.9202  , 1417.2632  ],\n",
      "       [1006.41614 ,  567.76    , 1064.1136  ,  632.8456  ],\n",
      "       [1301.5216  , 1295.5999  , 1354.0559  , 1340.2448  ],\n",
      "       [ 785.5508  ,  630.3198  ,  832.46954 ,  664.19946 ],\n",
      "       [ 932.0735  ,  644.008   ,  972.31476 ,  684.1185  ],\n",
      "       [ 466.6298  ,  936.5717  ,  511.50534 ,  984.9636  ],\n",
      "       [1690.0181  ,    7.220285, 1733.0228  ,   51.042492],\n",
      "       [ 424.4687  , 1078.6534  ,  510.82007 , 1150.9242  ],\n",
      "       [1157.9783  ,  494.0041  , 1211.28    ,  540.1373  ],\n",
      "       [1150.4224  ,  835.5482  , 1190.6827  ,  873.85095 ]],\n",
      "      dtype=float32), 'scores': array([0.0905802 , 0.0807864 , 0.07436725, 0.07361271, 0.05423223,\n",
      "       0.05337003, 0.05166147, 0.0472756 , 0.04580535, 0.04516681,\n",
      "       0.04334076, 0.04051085, 0.0342427 , 0.02992256, 0.0297866 ,\n",
      "       0.02828879, 0.02820127, 0.02794979, 0.02429791, 0.02162067,\n",
      "       0.0192422 , 0.01795982, 0.01730782, 0.01264963, 0.01091713,\n",
      "       0.0107247 , 0.00813509, 0.00770828, 0.00675068, 0.00589603])}\n"
     ]
    },
    {
     "name": "stderr",
     "output_type": "stream",
     "text": [
      "0it [00:00, ?it/s]"
     ]
    },
    {
     "name": "stdout",
     "output_type": "stream",
     "text": [
      "0\n"
     ]
    },
    {
     "name": "stderr",
     "output_type": "stream",
     "text": [
      "\n"
     ]
    },
    {
     "ename": "TypeError",
     "evalue": "'int' object is not subscriptable",
     "output_type": "error",
     "traceback": [
      "\u001b[0;31m---------------------------------------------------------------------------\u001b[0m",
      "\u001b[0;31mTypeError\u001b[0m                                 Traceback (most recent call last)",
      "Cell \u001b[0;32mIn[28], line 29\u001b[0m\n\u001b[1;32m     27\u001b[0m \u001b[38;5;28mprint\u001b[39m(merged_predictions[\u001b[38;5;241m0\u001b[39m][\u001b[38;5;241m0\u001b[39m])\n\u001b[1;32m     28\u001b[0m \u001b[38;5;28;01mfor\u001b[39;00m i \u001b[38;5;129;01min\u001b[39;00m \u001b[38;5;28mrange\u001b[39m(\u001b[38;5;28mlen\u001b[39m(merged_predictions)):\n\u001b[0;32m---> 29\u001b[0m     processed_merged_predictions[i] \u001b[38;5;241m=\u001b[39m \u001b[43mprocess_predictions\u001b[49m\u001b[43m(\u001b[49m\u001b[43mmerged_predictions\u001b[49m\u001b[43m[\u001b[49m\u001b[43mi\u001b[49m\u001b[43m]\u001b[49m\u001b[43m,\u001b[49m\u001b[43m \u001b[49m\u001b[43mtest_dataset\u001b[49m\u001b[43m)\u001b[49m\n",
      "Cell \u001b[0;32mIn[28], line 7\u001b[0m, in \u001b[0;36mprocess_predictions\u001b[0;34m(predictions, dataset)\u001b[0m\n\u001b[1;32m      5\u001b[0m _, labels \u001b[38;5;241m=\u001b[39m dataset[image_id]\n\u001b[1;32m      6\u001b[0m \u001b[38;5;28mprint\u001b[39m(image_predictions)\n\u001b[0;32m----> 7\u001b[0m iou_matrix \u001b[38;5;241m=\u001b[39m compute_iou_matrix(\u001b[43mimage_predictions\u001b[49m\u001b[43m[\u001b[49m\u001b[38;5;124;43m\"\u001b[39;49m\u001b[38;5;124;43mboxes\u001b[39;49m\u001b[38;5;124;43m\"\u001b[39;49m\u001b[43m]\u001b[49m, labels[\u001b[38;5;124m\"\u001b[39m\u001b[38;5;124mboxes\u001b[39m\u001b[38;5;124m\"\u001b[39m])\n\u001b[1;32m      8\u001b[0m \u001b[38;5;28;01mfor\u001b[39;00m iou \u001b[38;5;129;01min\u001b[39;00m iou_thresholds:\n\u001b[1;32m      9\u001b[0m     row_ind, col_ind \u001b[38;5;241m=\u001b[39m instance_matcher(iou_matrix, iou_threshold\u001b[38;5;241m=\u001b[39miou)\n",
      "\u001b[0;31mTypeError\u001b[0m: 'int' object is not subscriptable"
     ]
    }
   ],
   "source": [
    "iou_thresholds = [iou_threshold]\n",
    "def process_predictions(predictions, dataset):\n",
    "    detections = {i: pd.DataFrame(columns=[\"image_id\", \"decetion_id\", \"confidence_score\", \"accuracy\"]) for i in iou_thresholds}\n",
    "    for image_id, image_predictions in tqdm(enumerate(predictions)):\n",
    "        _, labels = dataset[image_id]\n",
    "        print(image_predictions)\n",
    "        iou_matrix = compute_iou_matrix(image_predictions[\"boxes\"], labels[\"boxes\"])\n",
    "        for iou in iou_thresholds:\n",
    "            row_ind, col_ind = instance_matcher(iou_matrix, iou_threshold=iou)\n",
    "            for detection_id in range(len(image_predictions[\"boxes\"])):\n",
    "                confidence_score = image_predictions[\"scores\"][detection_id].item()\n",
    "                accuracy = int(detection_id in col_ind)\n",
    "                detections[iou].loc[len(detections[iou])] = [image_id, detection_id, confidence_score, accuracy]\n",
    "\n",
    "    # plot number fo positive and negative detections\n",
    "    df = pd.DataFrame(columns=[\"iou_threshold\", \"true positive\", \"false positive\"])\n",
    "    for iou in iou_thresholds:\n",
    "        positive = detections[iou][detections[iou][\"accuracy\"] == 1].shape[0]\n",
    "        negative = detections[iou][detections[iou][\"accuracy\"] == 0].shape[0]\n",
    "        df.loc[len(df)] = [iou, positive, negative]\n",
    "    display(df)\n",
    "    return detections\n",
    "\n",
    "processed_merged_predictions = {}\n",
    "print(merged_predictions.keys())\n",
    "print(merged_predictions[0].keys())\n",
    "print(merged_predictions[0][0])\n",
    "for i in range(len(merged_predictions)):\n",
    "    processed_merged_predictions[i] = process_predictions(merged_predictions[i], test_dataset)"
   ]
  },
  {
   "cell_type": "markdown",
   "id": "00ee0419",
   "metadata": {},
   "source": [
    "# Calibration Plot\n",
    "\n",
    "Show the calibration plot of the ensamble model"
   ]
  },
  {
   "cell_type": "code",
   "execution_count": null,
   "id": "55481be5",
   "metadata": {},
   "outputs": [
    {
     "data": {
      "image/png": "[encoded data removed]",
      "text/plain": [
       "<Figure size 700x700 with 1 Axes>"
      ]
     },
     "metadata": {},
     "output_type": "display_data"
    },
    {
     "name": "stdout",
     "output_type": "stream",
     "text": [
      "Calibration Error at IoU 0.5: 0.108\n"
     ]
    }
   ],
   "source": [
    "def bin_predictions(detections: pd.DataFrame):\n",
    "    detections = detections.copy()\n",
    "    detections[\"bin\"] = pd.cut(detections[\"confidence_score\"], bins=bins_extremes, labels=labels)\n",
    "    bins = detections.groupby(\"bin\", observed=False)[\"accuracy\"].mean().reset_index()\n",
    "    bins[\"count\"] = detections.groupby(\"bin\", observed=False)[\"accuracy\"].count().values\n",
    "    bins[\"confidence\"] = detections.groupby(\"bin\", observed=False)[\"confidence_score\"].mean().values\n",
    "    bins[\"interval\"] = bins_extremes[1:]\n",
    "    return bins\n",
    "\n",
    "def plot_calibration(detections: dict, dataset: str, iou: float):\n",
    "    bins = bin_predictions(detections.copy())\n",
    "    # sns.barplot(data=bins, x=\"interval\", y=\"accuracy\")\n",
    "    plt.figure(figsize=(7, 7))\n",
    "    \n",
    "    bars = plt.bar(x=bins[\"interval\"]- 0.05, height=bins[\"accuracy\"], width=0.09, edgecolor='black', label='Model Calibration')\n",
    "    plt.bar(x=bins[\"interval\"]- 0.05, height=bins[\"confidence\"] - bins[\"accuracy\"], bottom=bins[\"accuracy\"], color=('red', 0.25), width=0.09, label='Calibration Gap', edgecolor=('red', 0.5))\n",
    "    plt.bar_label(bars, fmt='%.2f')\n",
    "    # plt.bar_label(bins[\"accuracy\"].to_list())\n",
    "    plt.ylabel(f\"Precision at IoU {iou}\")\n",
    "    plt.plot(bins_extremes, bins_extremes, color='red', linestyle='--')\n",
    "    plt.legend()\n",
    "    plt.title(f\"Calibration Plot at IoU {iou} for {dataset} Dataset\")\n",
    "    plt.show()\n",
    "    ce = compute_calibration_error(bins)\n",
    "    print(f\"Calibration Error at IoU {iou}: {ce:.3f}\")\n",
    "    return ce\n",
    "\n",
    "def compute_calibration_error(bins):\n",
    "    # compute the calibration score\n",
    "    ce = 0.0\n",
    "    for index, row in bins.iterrows():\n",
    "        if row[\"count\"] == 0:\n",
    "            continue\n",
    "        ce += abs(row[\"accuracy\"] - row[\"confidence\"]) * row[\"count\"]\n",
    "    ce /= bins[\"count\"].sum()\n",
    "    return ce\n",
    "\n",
    " \n",
    "ens_ce = plot_calibration(processed_merged_predictions[iou_threshold], \"Enseble model on Test\", iou_threshold)"
   ]
  },
  {
   "cell_type": "markdown",
   "id": "a77c0998",
   "metadata": {},
   "source": [
    "# Compare\n",
    "\n",
    "For comparison we wnat to see how the models perform on their own, we compute the calibration error for each model independently and compare it to the CE of the ensamble"
   ]
  },
  {
   "cell_type": "code",
   "execution_count": null,
   "id": "6b7ae776",
   "metadata": {},
   "outputs": [
    {
     "name": "stdout",
     "output_type": "stream",
     "text": [
      "best-checkpoint-16\n"
     ]
    },
    {
     "name": "stderr",
     "output_type": "stream",
     "text": [
      "0it [00:00, ?it/s]\n"
     ]
    },
    {
     "ename": "TypeError",
     "evalue": "'int' object is not subscriptable",
     "output_type": "error",
     "traceback": [
      "\u001b[0;31m---------------------------------------------------------------------------\u001b[0m",
      "\u001b[0;31mTypeError\u001b[0m                                 Traceback (most recent call last)",
      "Cell \u001b[0;32mIn[7], line 4\u001b[0m\n\u001b[1;32m      2\u001b[0m \u001b[38;5;28;01mfor\u001b[39;00m model, predictions \u001b[38;5;129;01min\u001b[39;00m test_predictions\u001b[38;5;241m.\u001b[39mitems():\n\u001b[1;32m      3\u001b[0m     \u001b[38;5;28mprint\u001b[39m(model)\n\u001b[0;32m----> 4\u001b[0m     pred \u001b[38;5;241m=\u001b[39m \u001b[43mprocess_predictions\u001b[49m\u001b[43m(\u001b[49m\u001b[43mpredictions\u001b[49m\u001b[43m,\u001b[49m\u001b[43m \u001b[49m\u001b[43mtest_dataset\u001b[49m\u001b[43m)\u001b[49m\n\u001b[1;32m      5\u001b[0m     individual_ce\u001b[38;5;241m.\u001b[39mappend(plot_calibration(pred[iou_threshold], \u001b[38;5;124m\"\u001b[39m\u001b[38;5;124mTest\u001b[39m\u001b[38;5;124m\"\u001b[39m, iou_threshold))\n\u001b[1;32m      6\u001b[0m \u001b[38;5;28mprint\u001b[39m(individual_ce)\n",
      "Cell \u001b[0;32mIn[5], line 6\u001b[0m, in \u001b[0;36mprocess_predictions\u001b[0;34m(predictions, dataset)\u001b[0m\n\u001b[1;32m      4\u001b[0m \u001b[38;5;28;01mfor\u001b[39;00m image_id, image_predictions \u001b[38;5;129;01min\u001b[39;00m tqdm(\u001b[38;5;28menumerate\u001b[39m(predictions)):\n\u001b[1;32m      5\u001b[0m     _, labels \u001b[38;5;241m=\u001b[39m dataset[image_id]\n\u001b[0;32m----> 6\u001b[0m     iou_matrix \u001b[38;5;241m=\u001b[39m compute_iou_matrix(\u001b[43mimage_predictions\u001b[49m\u001b[43m[\u001b[49m\u001b[38;5;124;43m\"\u001b[39;49m\u001b[38;5;124;43mboxes\u001b[39;49m\u001b[38;5;124;43m\"\u001b[39;49m\u001b[43m]\u001b[49m, labels[\u001b[38;5;124m\"\u001b[39m\u001b[38;5;124mboxes\u001b[39m\u001b[38;5;124m\"\u001b[39m])\n\u001b[1;32m      7\u001b[0m     \u001b[38;5;28;01mfor\u001b[39;00m iou \u001b[38;5;129;01min\u001b[39;00m iou_thresholds:\n\u001b[1;32m      8\u001b[0m         row_ind, col_ind \u001b[38;5;241m=\u001b[39m instance_matcher(iou_matrix, iou_threshold\u001b[38;5;241m=\u001b[39miou)\n",
      "\u001b[0;31mTypeError\u001b[0m: 'int' object is not subscriptable"
     ]
    }
   ],
   "source": [
    "individual_ce = []\n",
    "for model, predictions in test_predictions.items():\n",
    "    print(model)\n",
    "    pred = process_predictions(predictions, test_dataset)\n",
    "    individual_ce.append(plot_calibration(pred[iou_threshold], \"Test\", iou_threshold))\n",
    "print(individual_ce)\n",
    "print(sum(individual_ce)/len(individual_ce))"
   ]
  },
  {
   "cell_type": "code",
   "execution_count": null,
   "id": "abb0ae40",
   "metadata": {},
   "outputs": [],
   "source": [
    "plt.boxplot(individual_ce, label=\"Individual CE\")\n",
    "plt.plot(2, ens_ce, \"bo\", label=\"Ensemble CE\")\n",
    "plt.legend()\n",
    "plt.xlim(0.5,2.5)\n",
    "plt.ylim(0,0.25)\n",
    "plt.title(\"Calibration Error Comparison\")"
   ]
  },
  {
   "cell_type": "markdown",
   "id": "4c60ea39",
   "metadata": {},
   "source": [
    "# Model performances\n",
    "\n",
    "Next we compare the mnode performance of the ensable comaped to all the other mnodels taken singularly"
   ]
  },
  {
   "cell_type": "code",
   "execution_count": null,
   "id": "17e8a712",
   "metadata": {},
   "outputs": [],
   "source": [
    "import copy\n",
    "def ap(pred_boxes, target_boxes, iou_thresholds: list):\n",
    "    iou_matrix = compute_iou_matrix(pred_boxes, target_boxes)\n",
    "    precision = 0.\n",
    "    recall = 0.\n",
    "    for iou_threshold in iou_thresholds:\n",
    "        row_ind, col_ind = instance_matcher(copy.deepcopy(iou_matrix), iou_threshold)\n",
    "        # filter out the matches\n",
    "        tp = len(row_ind)\n",
    "        fp = len(pred_boxes) - tp\n",
    "        fn = len(target_boxes) - tp\n",
    "        # compute the precision and recall\n",
    "        precision += tp / (tp + fp) if (tp + fp) > 0 else 0\n",
    "        recall += tp / (tp + fn) if (tp + fn) > 0 else 0\n",
    "    precision /= len(iou_thresholds)\n",
    "    recall /= len(iou_thresholds)\n",
    "    return precision, recall\n",
    "\n",
    "def map(preds, targets, iou_thresholds: list, confidece_threshold: float = 0.5):\n",
    "    # compute the mean average precision\n",
    "    precision = 0.\n",
    "    recall = 0.\n",
    "    preds = FitterMaskRCNN.filter_predicitons(preds, confidece_threshold)\n",
    "    for pred, target in zip(preds, targets):\n",
    "        pred_boxes = pred['boxes'].cpu().numpy()\n",
    "        target_boxes = target['boxes'].cpu().numpy()\n",
    "        p, r = ap(pred_boxes, target_boxes, iou_thresholds)\n",
    "        precision += p\n",
    "        recall += r\n",
    "    precision /= len(preds)\n",
    "    recall /= len(preds)\n",
    "    return precision, recall"
   ]
  },
  {
   "cell_type": "code",
   "execution_count": null,
   "id": "c393feca",
   "metadata": {},
   "outputs": [
    {
     "name": "stderr",
     "output_type": "stream",
     "text": [
      "/var/folders/74/pjwdjs550d91v4lc_1_rqm6r0000gn/T/ipykernel_48073/3529155064.py:8: UserWarning: To copy construct from a tensor, it is recommended to use sourceTensor.clone().detach() or sourceTensor.clone().detach().requires_grad_(True), rather than torch.tensor(sourceTensor).\n",
      "  p[\"scores\"] = torch.tensor(p[\"scores\"])\n",
      "/var/folders/74/pjwdjs550d91v4lc_1_rqm6r0000gn/T/ipykernel_48073/3529155064.py:9: UserWarning: To copy construct from a tensor, it is recommended to use sourceTensor.clone().detach() or sourceTensor.clone().detach().requires_grad_(True), rather than torch.tensor(sourceTensor).\n",
      "  p[\"boxes\"] = torch.tensor(p[\"boxes\"])\n"
     ]
    },
    {
     "name": "stdout",
     "output_type": "stream",
     "text": [
      "MAP ensemble: (0.4872975092413862, 0.456190609452631)\n"
     ]
    }
   ],
   "source": [
    "target = []\n",
    "for _, t in test_dataset:\n",
    "    target.append(t)\n",
    "\n",
    "for p in merged_predictions:\n",
    "    p[\"labels\"] = torch.ones(len(p[\"scores\"]))\n",
    "    p[\"masks\"] = torch.ones(len(p[\"scores\"]))\n",
    "    p[\"scores\"] = torch.tensor(p[\"scores\"])\n",
    "    p[\"boxes\"] = torch.tensor(p[\"boxes\"])\n",
    "\n",
    "map_ensemble= map(\n",
    "    preds=merged_predictions,\n",
    "    targets=target,\n",
    "    iou_thresholds=np.linspace(0.5, 0.95, 10),\n",
    "    confidece_threshold = 0.5,\n",
    ")\n",
    "\n",
    "\n",
    "print(f\"MAP ensemble: {map_ensemble}\")\n",
    "\n",
    "\n"
   ]
  }
 ],
 "metadata": {
  "kernelspec": {
   "display_name": "colorec",
   "language": "python",
   "name": "python3"
  },
  "language_info": {
   "codemirror_mode": {
    "name": "ipython",
    "version": 3
   },
   "file_extension": ".py",
   "mimetype": "text/x-python",
   "name": "python",
   "nbconvert_exporter": "python",
   "pygments_lexer": "ipython3",
   "version": "3.12.0"
  }
 },
 "nbformat": 4,
 "nbformat_minor": 5
}
